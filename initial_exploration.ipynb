{
 "cells": [
  {
   "cell_type": "markdown",
   "metadata": {},
   "source": [
    "# Extracting Nuclide info from Genie2K reports.\n",
    "This file contains code to read Genie2K reports for each core (housed in folder called 'BH_CoreCounts') and pull information to fill in values in 'BombayHook_Gamma.xlsm' spreadsheet."
   ]
  },
  {
   "cell_type": "code",
   "execution_count": 1,
   "metadata": {
    "collapsed": true
   },
   "outputs": [],
   "source": [
    "# Imports\n",
    "import numpy as np\n",
    "import pandas as pd\n",
    "import os"
   ]
  },
  {
   "cell_type": "code",
   "execution_count": 82,
   "metadata": {
    "collapsed": true
   },
   "outputs": [],
   "source": [
    "# Globals\n",
    "REPORT_FOLDER = 'BH_CoreCounts'\n",
    "REPORTS = os.listdir(REPORT_FOLDER)\n",
    "COL_NAMES = ['No.', 'Start', 'Centroid', 'keV', 'Area', 'Uncert.', 'Counts', 'Length', 'Nuclide']"
   ]
  },
  {
   "cell_type": "markdown",
   "metadata": {},
   "source": [
    "#### Part 1. Prep work for reading files"
   ]
  },
  {
   "cell_type": "code",
   "execution_count": 83,
   "metadata": {
    "collapsed": false
   },
   "outputs": [
    {
     "name": "stdout",
     "output_type": "stream",
     "text": [
      "['No.', 'Start', 'Centroid', 'keV', 'Area', 'Uncert.', 'Counts', 'Length', 'Nuclide']\n"
     ]
    }
   ],
   "source": [
    "# Using the first file to get column names for nuclide rows\n",
    "firstfile = REPORT_FOLDER + '/' + reports[0]\n",
    "with open(firstfile,'r') as f:\n",
    "    col_names = f.readlines()[22].replace('(','').replace(')','').split()\n",
    "print(col_names)"
   ]
  },
  {
   "cell_type": "code",
   "execution_count": 148,
   "metadata": {
    "collapsed": false
   },
   "outputs": [],
   "source": [
    "# Helper Function to read report data into a dataframe\n",
    "def read_report(filename):\n",
    "    \"\"\"\n",
    "    INPUT: file of a Genie2K report\n",
    "    OUTPUT: dictionary of core information descriptors\n",
    "            ('core','interval','detector','mass','count_time')\n",
    "            dataframe of nuclide counts\n",
    "    \"\"\"\n",
    "    with open(filename,'r') as f:\n",
    "        lines = f.readlines()\n",
    "        \n",
    "        # Information about the core\n",
    "        info_dict = {}\n",
    "        core_id = lines[3].split()[-1].split('_')\n",
    "        info_dict['core'] = core_id[0]\n",
    "        info_dict['interval'] = core_id[1]\n",
    "        info_dict['detector'] = core_id[2]\n",
    "        info_dict['mass'] = lines[7].split()[-2]\n",
    "        info_dict['count_time'] = lines[8].split()[-2]\n",
    "        \n",
    "        # Nuclide Counts\n",
    "        nuclide_data = []\n",
    "        for line in f:\n",
    "            row = line.split()\n",
    "            if not row:\n",
    "                pass\n",
    "            elif row[0].isdigit():\n",
    "                nuclide_data.append(line)\n",
    "        nuclide_df = pd.DataFrame(nuclide_data, columns=COL_NAMES).set_index('No.')\n",
    "    \n",
    "    return info_dict, nuclide_df                "
   ]
  },
  {
   "cell_type": "code",
   "execution_count": 149,
   "metadata": {
    "collapsed": false
   },
   "outputs": [
    {
     "name": "stdout",
     "output_type": "stream",
     "text": [
      "mass: 41.30\n",
      "count_time: 85851.4\n",
      "{'mass': '41.30', 'count_time': '85851.4', 'detector': 'BEGe', 'core': 'AF02A', 'interval': '0-2'}\n"
     ]
    },
    {
     "data": {
      "text/html": [
       "<div>\n",
       "<table border=\"1\" class=\"dataframe\">\n",
       "  <thead>\n",
       "    <tr style=\"text-align: right;\">\n",
       "      <th></th>\n",
       "      <th>Start</th>\n",
       "      <th>Centroid</th>\n",
       "      <th>keV</th>\n",
       "      <th>Area</th>\n",
       "      <th>Uncert.</th>\n",
       "      <th>Counts</th>\n",
       "      <th>Length</th>\n",
       "      <th>Nuclide</th>\n",
       "    </tr>\n",
       "    <tr>\n",
       "      <th>No.</th>\n",
       "      <th></th>\n",
       "      <th></th>\n",
       "      <th></th>\n",
       "      <th></th>\n",
       "      <th></th>\n",
       "      <th></th>\n",
       "      <th></th>\n",
       "      <th></th>\n",
       "    </tr>\n",
       "  </thead>\n",
       "  <tbody>\n",
       "  </tbody>\n",
       "</table>\n",
       "</div>"
      ],
      "text/plain": [
       "Empty DataFrame\n",
       "Columns: [Start, Centroid, keV, Area, Uncert., Counts, Length, Nuclide]\n",
       "Index: []"
      ]
     },
     "execution_count": 149,
     "metadata": {},
     "output_type": "execute_result"
    }
   ],
   "source": [
    "# testing read_report() on first file\n",
    "info, df = read_report(firstfile)\n",
    "print(info)\n",
    "df"
   ]
  },
  {
   "cell_type": "markdown",
   "metadata": {},
   "source": [
    "#### Ok, now to work."
   ]
  },
  {
   "cell_type": "code",
   "execution_count": 21,
   "metadata": {
    "collapsed": false
   },
   "outputs": [],
   "source": [
    "# OK creating a function to parse by hand\n",
    "def read_report(filepath):\n",
    "    \"\"\"\n",
    "    INPUT: path for a GENIE2K report\n",
    "    OUTPUT:\n",
    "    \"\"\""
   ]
  },
  {
   "cell_type": "code",
   "execution_count": 28,
   "metadata": {
    "collapsed": false
   },
   "outputs": [
    {
     "data": {
      "text/html": [
       "<div>\n",
       "<table border=\"1\" class=\"dataframe\">\n",
       "  <thead>\n",
       "    <tr style=\"text-align: right;\">\n",
       "      <th></th>\n",
       "      <th>1    254     259      47      1948      70       789      11    Pb-210</th>\n",
       "    </tr>\n",
       "  </thead>\n",
       "  <tbody>\n",
       "    <tr>\n",
       "      <th>0</th>\n",
       "      <td>2    347     352      64       620      58...</td>\n",
       "    </tr>\n",
       "    <tr>\n",
       "      <th>1</th>\n",
       "      <td>3    509     516      93       926      58...</td>\n",
       "    </tr>\n",
       "    <tr>\n",
       "      <th>2</th>\n",
       "      <td>4   1024    1032     186       421      49...</td>\n",
       "    </tr>\n",
       "    <tr>\n",
       "      <th>3</th>\n",
       "      <td>...</td>\n",
       "    </tr>\n",
       "    <tr>\n",
       "      <th>4</th>\n",
       "      <td>5   1318    1326     239      2307      66...</td>\n",
       "    </tr>\n",
       "    <tr>\n",
       "      <th>5</th>\n",
       "      <td>6   1631    1640     295       337      43...</td>\n",
       "    </tr>\n",
       "    <tr>\n",
       "      <th>6</th>\n",
       "      <td>7   1869    1879     338       399      40...</td>\n",
       "    </tr>\n",
       "    <tr>\n",
       "      <th>7</th>\n",
       "      <td>8   1946    1955     352       735      42...</td>\n",
       "    </tr>\n",
       "    <tr>\n",
       "      <th>8</th>\n",
       "      <td>9   2023    2033     366        26      31...</td>\n",
       "    </tr>\n",
       "    <tr>\n",
       "      <th>9</th>\n",
       "      <td>10   2645    2656     478       -42      29...</td>\n",
       "    </tr>\n",
       "    <tr>\n",
       "      <th>10</th>\n",
       "      <td>11   2826    2838     511       791      42...</td>\n",
       "    </tr>\n",
       "    <tr>\n",
       "      <th>11</th>\n",
       "      <td>12   3227    3240     583       502      35...</td>\n",
       "    </tr>\n",
       "    <tr>\n",
       "      <th>12</th>\n",
       "      <td>13   3374    3386     609       445      32...</td>\n",
       "    </tr>\n",
       "    <tr>\n",
       "      <th>13</th>\n",
       "      <td>14   3663    3676     661       126      27...</td>\n",
       "    </tr>\n",
       "    <tr>\n",
       "      <th>14</th>\n",
       "      <td>15   5049    5065     911       282      30...</td>\n",
       "    </tr>\n",
       "    <tr>\n",
       "      <th>15</th>\n",
       "      <td>16   5371    5386     968       102      28...</td>\n",
       "    </tr>\n",
       "  </tbody>\n",
       "</table>\n",
       "</div>"
      ],
      "text/plain": [
       "       1    254     259      47      1948      70       789      11    Pb-210   \n",
       "0       2    347     352      64       620      58...                           \n",
       "1       3    509     516      93       926      58...                           \n",
       "2       4   1024    1032     186       421      49...                           \n",
       "3                                                 ...                           \n",
       "4       5   1318    1326     239      2307      66...                           \n",
       "5       6   1631    1640     295       337      43...                           \n",
       "6       7   1869    1879     338       399      40...                           \n",
       "7       8   1946    1955     352       735      42...                           \n",
       "8       9   2023    2033     366        26      31...                           \n",
       "9      10   2645    2656     478       -42      29...                           \n",
       "10     11   2826    2838     511       791      42...                           \n",
       "11     12   3227    3240     583       502      35...                           \n",
       "12     13   3374    3386     609       445      32...                           \n",
       "13     14   3663    3676     661       126      27...                           \n",
       "14     15   5049    5065     911       282      30...                           \n",
       "15     16   5371    5386     968       102      28...                           "
      ]
     },
     "execution_count": 28,
     "metadata": {},
     "output_type": "execute_result"
    }
   ],
   "source": [
    "rep_vars = ['core','interval','detector','mass','count_time']\n",
    "nuclides = ['Pb-210','Am-241','Th-234','Ra-226','Pb-214',]"
   ]
  },
  {
   "cell_type": "code",
   "execution_count": null,
   "metadata": {
    "collapsed": true
   },
   "outputs": [],
   "source": []
  }
 ],
 "metadata": {
  "kernelspec": {
   "display_name": "Python 3",
   "language": "python",
   "name": "python3"
  },
  "language_info": {
   "codemirror_mode": {
    "name": "ipython",
    "version": 3
   },
   "file_extension": ".py",
   "mimetype": "text/x-python",
   "name": "python",
   "nbconvert_exporter": "python",
   "pygments_lexer": "ipython3",
   "version": "3.5.1"
  }
 },
 "nbformat": 4,
 "nbformat_minor": 0
}
